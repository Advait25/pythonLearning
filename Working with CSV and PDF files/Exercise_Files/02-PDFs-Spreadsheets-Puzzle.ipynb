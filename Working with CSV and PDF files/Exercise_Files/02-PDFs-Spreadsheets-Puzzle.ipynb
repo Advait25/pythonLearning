{
 "cells": [
  {
   "cell_type": "markdown",
   "metadata": {},
   "source": [
    "___\n",
    "\n",
    "<a href='https://www.udemy.com/user/joseportilla/'><img src='../Pierian_Data_Logo.png'/></a>\n",
    "___\n",
    "<center><em>Content Copyright by Pierian Data</em></center>"
   ]
  },
  {
   "cell_type": "markdown",
   "metadata": {},
   "source": [
    "# PDFs and Spreadsheets Puzzle Exercise\n",
    "\n",
    "Let's test your skills, the files needed for this puzzle exercise\n",
    "\n",
    "You will need to work with two files for this exercise and solve the following tasks:\n",
    "\n",
    "* Task One: Use Python to extract the Google Drive link from the .csv file. (Hint: Its along the diagonal from top left to bottom right).\n",
    "* Task Two: Download the PDF from the Google Drive link (we already downloaded it for you just in case you can't download from Google Drive) and find the phone number that is in the document. Note: There are different ways of formatting a phone number!"
   ]
  },
  {
   "cell_type": "markdown",
   "metadata": {},
   "source": [
    "## Task One: Grab the Google Drive Link from .csv File"
   ]
  },
  {
   "cell_type": "code",
   "execution_count": 1,
   "metadata": {},
   "outputs": [
    {
     "name": "stdout",
     "output_type": "stream",
     "text": [
      "https://drive.google.com/open?id=1G6SEgg018UB4_4xsAJJ5TdzrhmXipr4Q\n"
     ]
    }
   ],
   "source": [
    "import csv\n",
    "\n",
    "#open file\n",
    "f = open('find_the_link.csv',encoding='utf-8')\n",
    "\n",
    "#reader object\n",
    "reader = csv.reader(f)\n",
    "\n",
    "file_data= list(reader)\n",
    "\n",
    "total_lines = len(file_data)\n",
    "\n",
    "#print(total_lines)\n",
    "\n",
    "link = ''\n",
    "n = 0\n",
    "\n",
    "#loop through the list and get the link, link is at nth index for nth line \n",
    "while n < total_lines:\n",
    "    link += file_data[n][n]\n",
    "    n += 1\n",
    "\n",
    "print(link)\n",
    "    "
   ]
  },
  {
   "cell_type": "markdown",
   "metadata": {},
   "source": [
    "## Task Two: Download the PDF from the Google Drive link and find the phone number that is in the document. "
   ]
  },
  {
   "cell_type": "code",
   "execution_count": 2,
   "metadata": {},
   "outputs": [
    {
     "name": "stdout",
     "output_type": "stream",
     "text": [
      "phone number 505.503.4455 is found on page 14\n"
     ]
    }
   ],
   "source": [
    "# You should get this phone number\n",
    "# 505 503 4455\n",
    "\n",
    "#import PyPDF2 and re\n",
    "import PyPDF2\n",
    "import re\n",
    "\n",
    "f_pdf = open('find_the_phone_number.pdf',mode='rb')\n",
    "\n",
    "#reader object\n",
    "f_pdf_reader = PyPDF2.PdfReader(f_pdf)\n",
    "\n",
    "#regex pattern for phone number\n",
    "phone_pattern = r\"\\d{3}\\D\\d{3}\\D\\d{4}\"\n",
    "\n",
    "for page_num in range(len(f_pdf_reader.pages)):\n",
    "    page_text = f_pdf_reader.pages[page_num].extract_text()\n",
    "    phone = re.findall(phone_pattern,page_text)\n",
    "    if phone:\n",
    "        print(f'phone number {phone.pop()} is found on page {page_num+1}')\n",
    "        break\n",
    "    "
   ]
  }
 ],
 "metadata": {
  "anaconda-cloud": {},
  "kernelspec": {
   "display_name": "Python 3 (ipykernel)",
   "language": "python",
   "name": "python3"
  },
  "language_info": {
   "codemirror_mode": {
    "name": "ipython",
    "version": 3
   },
   "file_extension": ".py",
   "mimetype": "text/x-python",
   "name": "python",
   "nbconvert_exporter": "python",
   "pygments_lexer": "ipython3",
   "version": "3.11.1"
  }
 },
 "nbformat": 4,
 "nbformat_minor": 2
}
